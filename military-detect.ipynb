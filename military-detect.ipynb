{
 "cells": [
  {
   "cell_type": "code",
   "execution_count": null,
   "metadata": {
    "_cell_guid": "b1076dfc-b9ad-4769-8c92-a6c4dae69d19",
    "_uuid": "8f2839f25d086af736a60e9eeb907d3b93b6e0e5",
    "execution": {
     "iopub.execute_input": "2021-10-26T13:39:39.704150Z",
     "iopub.status.busy": "2021-10-26T13:39:39.703660Z",
     "iopub.status.idle": "2021-10-26T13:39:40.034629Z",
     "shell.execute_reply": "2021-10-26T13:39:40.033666Z",
     "shell.execute_reply.started": "2021-10-26T13:39:39.704045Z"
    }
   },
   "outputs": [],
   "source": [
    "import numpy as np\n",
    "import glob\n",
    "import shutil\n",
    "import pandas as pd\n",
    "import cv2\n",
    "import os"
   ]
  },
  {
   "cell_type": "code",
   "execution_count": null,
   "metadata": {
    "execution": {
     "iopub.execute_input": "2021-10-26T13:39:40.036911Z",
     "iopub.status.busy": "2021-10-26T13:39:40.036567Z",
     "iopub.status.idle": "2021-10-26T13:39:40.820122Z",
     "shell.execute_reply": "2021-10-26T13:39:40.819080Z",
     "shell.execute_reply.started": "2021-10-26T13:39:40.036871Z"
    }
   },
   "outputs": [],
   "source": [
    "# 查询显卡信息\n",
    "!nvidia-smi --query-gpu=name --format=csv,noheader"
   ]
  },
  {
   "cell_type": "code",
   "execution_count": null,
   "metadata": {
    "execution": {
     "iopub.execute_input": "2021-10-26T13:39:40.822749Z",
     "iopub.status.busy": "2021-10-26T13:39:40.822034Z",
     "iopub.status.idle": "2021-10-26T13:40:23.685253Z",
     "shell.execute_reply": "2021-10-26T13:40:23.684067Z",
     "shell.execute_reply.started": "2021-10-26T13:39:40.822674Z"
    }
   },
   "outputs": [],
   "source": [
    "# 更新pip\n",
    "!pip install --upgrade pip\n",
    "\n",
    "# 下载YOLOv5\n",
    "!git config --global url.\"https://\".insteadOf git://\n",
    "!git clone git://github.com/ultralytics/yolov5.git\n",
    "\n",
    "# 移动文件夹并安装yolo V5\n",
    "!mv /kaggle/working/yolov5/* ./\n",
    "!pip install -r requirements.txt\n",
    "!pip uninstall -y wandb\n",
    "!ls ./"
   ]
  },
  {
   "cell_type": "code",
   "execution_count": null,
   "metadata": {
    "execution": {
     "iopub.execute_input": "2021-10-26T13:40:23.689018Z",
     "iopub.status.busy": "2021-10-26T13:40:23.688569Z",
     "iopub.status.idle": "2021-10-26T13:40:23.702654Z",
     "shell.execute_reply": "2021-10-26T13:40:23.701526Z",
     "shell.execute_reply.started": "2021-10-26T13:40:23.688972Z"
    }
   },
   "outputs": [],
   "source": [
    "\"\"\"\n",
    "# apex 安装cuda\n",
    "!git clone https://github.com/NVIDIA/apex\n",
    "!pip install -v --no-cache-dir --global-option=\"--cpp_ext\" --global-option=\"--cuda_ext\" ./apex\n",
    "\"\"\""
   ]
  },
  {
   "cell_type": "code",
   "execution_count": null,
   "metadata": {
    "execution": {
     "iopub.execute_input": "2021-10-26T13:40:23.705503Z",
     "iopub.status.busy": "2021-10-26T13:40:23.705016Z",
     "iopub.status.idle": "2021-10-26T13:40:23.716532Z",
     "shell.execute_reply": "2021-10-26T13:40:23.715443Z",
     "shell.execute_reply.started": "2021-10-26T13:40:23.705462Z"
    }
   },
   "outputs": [],
   "source": [
    "# \"A400M\", \"AG600\", \n",
    "classes = [\"A10\",\"A400M\", \"AG600\",\"B1\",\"B2\",\"B52\", \"Be200\", \"C130\",\"C17\",\"C5\", \"E2\",\"EF2000\",\n",
    "           \"F117\",\"F14\",\"F15\",\"F16\",\"F18\",\"F22\",\"F35\",\"F4\",\n",
    "           \"JAS39\",\"MQ9\",\"Mig31\",\"Mirage2000\",\"RQ4\",\"Rafale\",\n",
    "           \"SR71\",\"Su57\",\"Tu160\",\"Tu95\",\"U2\",\"US2\", \"V22\",\"XB70\",\"YF23\",\"J20\"]\n",
    "classes = np.array(classes)"
   ]
  },
  {
   "cell_type": "code",
   "execution_count": null,
   "metadata": {
    "execution": {
     "iopub.execute_input": "2021-10-26T13:40:23.718612Z",
     "iopub.status.busy": "2021-10-26T13:40:23.718118Z",
     "iopub.status.idle": "2021-10-26T13:40:24.420177Z",
     "shell.execute_reply": "2021-10-26T13:40:24.419123Z",
     "shell.execute_reply.started": "2021-10-26T13:40:23.718570Z"
    }
   },
   "outputs": [],
   "source": [
    "csv_paths = glob.glob('../input/militaryaircraftdetectiondataset/dataset/dataset/*.csv')\n",
    "jpg_paths = glob.glob('../input/militaryaircraftdetectiondataset/dataset/dataset/*.jpg')\n",
    "media_path = glob.glob('../input/test-media/Top 7 Badass Planes of the US Military-PU_OxwH1guM.mp4')\n",
    "csv_paths.sort()\n",
    "jpg_paths.sort()\n",
    "print(csv_paths[0])\n",
    "print(jpg_paths[0])\n",
    "print(len(csv_paths), len(jpg_paths))"
   ]
  },
  {
   "cell_type": "code",
   "execution_count": null,
   "metadata": {
    "execution": {
     "iopub.execute_input": "2021-10-26T13:40:24.422139Z",
     "iopub.status.busy": "2021-10-26T13:40:24.421806Z",
     "iopub.status.idle": "2021-10-26T13:40:25.214997Z",
     "shell.execute_reply": "2021-10-26T13:40:25.213826Z",
     "shell.execute_reply.started": "2021-10-26T13:40:24.422099Z"
    }
   },
   "outputs": [],
   "source": [
    "os.makedirs('yolov5/data/train/images', exist_ok=True)\n",
    "os.makedirs('yolov5/data/train/labels', exist_ok=True)\n",
    "\n",
    "os.makedirs('yolov5/data/valid/images', exist_ok=True)\n",
    "os.makedirs('yolov5/data/valid/labels', exist_ok=True)\n",
    "\n",
    "os.makedirs('yolov5/data/test/images', exist_ok=True)\n",
    "os.makedirs('yolov5/data/test/labels', exist_ok=True)\n",
    "\n",
    "!ls yolov5/data"
   ]
  },
  {
   "cell_type": "code",
   "execution_count": null,
   "metadata": {
    "_kg_hide-output": true,
    "execution": {
     "iopub.execute_input": "2021-10-26T13:40:25.218673Z",
     "iopub.status.busy": "2021-10-26T13:40:25.218393Z",
     "iopub.status.idle": "2021-10-26T13:40:25.886864Z",
     "shell.execute_reply": "2021-10-26T13:40:25.884441Z",
     "shell.execute_reply.started": "2021-10-26T13:40:25.218615Z"
    }
   },
   "outputs": [],
   "source": [
    "n_images = len(csv_paths)\n",
    "n_split = n_images//20\n",
    "\n",
    "# shutil.copy('../input/yoloconfig/best0/best0.pt', 'yolov5/model/train/last.pt')\n",
    "for i, (csv_path, jpg_path) in enumerate(zip(csv_paths, jpg_paths)):\n",
    "    # 标定框数量\n",
    "    annotations = np.array(pd.read_csv(csv_path))\n",
    "    # 1份测试，4份验证，15份训练\n",
    "    if i < n_split:\n",
    "        shutil.copy(jpg_path, 'yolov5/data/test/images/' + os.path.basename(jpg_path))\n",
    "        txt_file_path = 'yolov5/data/test/labels/' + os.path.basename(csv_path)[:-4]+'.txt'\n",
    "    elif n_split <= i < n_split*5:\n",
    "        shutil.copy(jpg_path, 'yolov5/data/valid/images/' + os.path.basename(jpg_path))\n",
    "        txt_file_path = 'yolov5/data/valid/labels/' + os.path.basename(csv_path)[:-4]+'.txt'\n",
    "    else:\n",
    "        shutil.copy(jpg_path, 'yolov5/data/train/images/' + os.path.basename(jpg_path))\n",
    "        txt_file_path = 'yolov5/data/train/labels/' + os.path.basename(csv_path)[:-4]+'.txt'\n",
    "    \n",
    "    \n",
    "    \n",
    "    with open(txt_file_path, mode='w') as f:\n",
    "        for annotation in annotations:\n",
    "            width = annotation[1]\n",
    "            height = annotation[2]\n",
    "            class_name = annotation[3]\n",
    "            xmin = annotation[4]\n",
    "            ymin = annotation[5]\n",
    "            xmax = annotation[6]\n",
    "            ymax = annotation[7]\n",
    "            x_center = 0.5*(xmin+xmax)\n",
    "            y_center = 0.5*(ymin+ymax)\n",
    "            b_width = xmax - xmin\n",
    "            b_height= ymax - ymin\n",
    "            class_num = np.where(classes==class_name)\n",
    "            try:\n",
    "                class_num = class_num[0][0]\n",
    "            except:\n",
    "                print(class_name)\n",
    "                continue\n",
    "            output_string = '{} {} {} {} {}\\n'.format(class_num,\n",
    "                                                    x_center/width,\n",
    "                                                    y_center/height,\n",
    "                                                    b_width/width,\n",
    "                                                    b_height/height)\n",
    "            f.write(output_string)\n",
    "print(len(glob.glob('yolov5/data/test/labels/*.txt')))\n",
    "print(len(glob.glob('yolov5/data/valid/labels/*.txt')))\n",
    "print(len(glob.glob('yolov5/data/train/labels/*.txt')))"
   ]
  },
  {
   "cell_type": "code",
   "execution_count": null,
   "metadata": {
    "execution": {
     "iopub.status.busy": "2021-10-26T13:40:25.891357Z",
     "iopub.status.idle": "2021-10-26T13:40:25.892240Z",
     "shell.execute_reply": "2021-10-26T13:40:25.891987Z",
     "shell.execute_reply.started": "2021-10-26T13:40:25.891960Z"
    }
   },
   "outputs": [],
   "source": [
    "# train\n",
    "%cd /kaggle/working\n",
    "!python train.py --batch 88 \\\n",
    "                 --img 640 \\\n",
    "                 --epochs 50 \\\n",
    "                 --data ../input/yoloconfig/yolov5/data.yaml \\\n",
    "#                  --cfg ../input/yoloconfig/yolov5/yolov5x.yaml \\\n",
    "                 --hyp ../input/yoloconfig/yolov5/hyp.yaml \\\n",
    "                 --name military_aircraft_detection \\\n",
    "                 --weights /kaggle/input/yoloconfig/best_s/best_s.pt --device 0\n",
    "#                  --weights ../input/yoloconfig/best2/best.pt --device 0"
   ]
  },
  {
   "cell_type": "markdown",
   "metadata": {},
   "source": [
    "下面的代码用来将运行完的权重保存至云端数据集，用来下次调用继续训练\n",
    "\n",
    "详细的API使用教程详见仓库：https://github.com/Kaggle/kaggle-api"
   ]
  },
  {
   "cell_type": "code",
   "execution_count": null,
   "metadata": {
    "execution": {
     "iopub.execute_input": "2021-10-26T13:52:23.710052Z",
     "iopub.status.busy": "2021-10-26T13:52:23.709662Z",
     "iopub.status.idle": "2021-10-26T13:52:25.122097Z",
     "shell.execute_reply": "2021-10-26T13:52:25.120940Z",
     "shell.execute_reply.started": "2021-10-26T13:52:23.710021Z"
    }
   },
   "outputs": [],
   "source": [
    "!cp /kaggle/working/runs/detect/exp2/001.mp4 /kaggle/working"
   ]
  },
  {
   "cell_type": "code",
   "execution_count": null,
   "metadata": {
    "execution": {
     "iopub.status.busy": "2021-10-26T13:40:25.899717Z",
     "iopub.status.idle": "2021-10-26T13:40:25.900600Z",
     "shell.execute_reply": "2021-10-26T13:40:25.900273Z",
     "shell.execute_reply.started": "2021-10-26T13:40:25.900245Z"
    }
   },
   "outputs": [],
   "source": [
    "version = '001'\n",
    "dataset_name = 'weights'\n",
    "folder_name = 'MyWeight'\n",
    "user_name = 'imchenyuxi'"
   ]
  },
  {
   "cell_type": "code",
   "execution_count": null,
   "metadata": {
    "execution": {
     "iopub.status.busy": "2021-10-26T13:40:25.902384Z",
     "iopub.status.idle": "2021-10-26T13:40:25.903337Z",
     "shell.execute_reply": "2021-10-26T13:40:25.903038Z",
     "shell.execute_reply.started": "2021-10-26T13:40:25.902992Z"
    }
   },
   "outputs": [],
   "source": [
    "# create new folder\n",
    "os.system(f'mkdir {folder_name}')\n",
    "# move json file to before folder\n",
    "os.system(f'cp -r ../input/{dataset_name}/kaggle.json /kaggle/working/{folder_name}') \n",
    "# move train result to folder\n",
    "os.system(f'mv ./runs/train/* ./{folder_name}')\n",
    "# Set base environment \n",
    "os.environ['KAGGLE_CONFIG_DIR'] = f'/kaggle/working/{folder_name}'\n",
    "os.system(f'chmod 600 /kaggle/working/{folder_name}/kaggle.json')\n",
    "\n",
    "# test Kaggle API condition\n",
    "!kaggle competitions list"
   ]
  },
  {
   "cell_type": "code",
   "execution_count": null,
   "metadata": {
    "execution": {
     "iopub.status.busy": "2021-10-26T13:40:25.905311Z",
     "iopub.status.idle": "2021-10-26T13:40:25.906263Z",
     "shell.execute_reply": "2021-10-26T13:40:25.905981Z",
     "shell.execute_reply.started": "2021-10-26T13:40:25.905952Z"
    }
   },
   "outputs": [],
   "source": [
    "import json\n",
    "import datetime\n",
    "\n",
    "def get_time_str():    \n",
    "    curr_time = datetime.datetime.now()\n",
    "    time = datetime.datetime.strftime(curr_time,'%m_%d_%H_%M_%S')\n",
    "    return time\n",
    "\n",
    "dataset = 'weights'\n",
    "def sync():\n",
    "    # Initiate\n",
    "    os.system(f'kaggle datasets init -p {folder_name}')\n",
    "    \n",
    "    # Edit the dataset-metadata.json\n",
    "    with open(f'./{folder_name}/dataset-metadata.json', \"r\",encoding='utf-8') as jsonFile:\n",
    "        data = json.load(jsonFile)\n",
    "    data[\"title\"] = version\n",
    "    data['id'] = f'{user_name}/{dataset}'\n",
    "    with open(f'./{folder_name}/dataset-metadata.json', \"w\") as jsonFile:\n",
    "        json.dump(data, jsonFile,ensure_ascii=False)\n",
    "    # Upload your folder as a new version of the dataset\n",
    "    # -m VERSION_NOTES     Message describing the new version\n",
    "    # -p FOLDER    Folder for upload    \n",
    "    # --dir-mode{skip,zip,tar}     means whether upload folder and compress file    \n",
    "    # -d    Delete old versions of this dataset\n",
    "    exit = os.system('kaggle datasets version --dir-mode tar -m' + get_time_str() + f' -p {folder_name}')\n",
    "    \n",
    "    if(exit == 0):\n",
    "        print(\"Uploaded!\")\n",
    "    else:\n",
    "        print(\"Failed to upload!, exit code \", exit)\n",
    "\n",
    "sync()"
   ]
  },
  {
   "cell_type": "code",
   "execution_count": null,
   "metadata": {
    "execution": {
     "iopub.status.busy": "2021-10-26T13:40:25.908049Z",
     "iopub.status.idle": "2021-10-26T13:40:25.908943Z",
     "shell.execute_reply": "2021-10-26T13:40:25.908660Z",
     "shell.execute_reply.started": "2021-10-26T13:40:25.908593Z"
    }
   },
   "outputs": [],
   "source": [
    "!rm -r ./output\n",
    "!mv ./runs ./output"
   ]
  }
 ],
 "metadata": {
  "kernelspec": {
   "display_name": "Python 3",
   "language": "python",
   "name": "python3"
  },
  "language_info": {
   "codemirror_mode": {
    "name": "ipython",
    "version": 3
   },
   "file_extension": ".py",
   "mimetype": "text/x-python",
   "name": "python",
   "nbconvert_exporter": "python",
   "pygments_lexer": "ipython3",
   "version": "3.8.8"
  },
  "toc": {
   "base_numbering": 1,
   "nav_menu": {},
   "number_sections": true,
   "sideBar": true,
   "skip_h1_title": false,
   "title_cell": "Table of Contents",
   "title_sidebar": "Contents",
   "toc_cell": false,
   "toc_position": {},
   "toc_section_display": true,
   "toc_window_display": false
  }
 },
 "nbformat": 4,
 "nbformat_minor": 4
}
